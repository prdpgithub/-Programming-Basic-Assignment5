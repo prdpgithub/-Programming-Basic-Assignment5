{
 "cells": [
  {
   "cell_type": "code",
   "execution_count": 1,
   "id": "069d055e",
   "metadata": {},
   "outputs": [
    {
     "name": "stdout",
     "output_type": "stream",
     "text": [
      "Enter first number: 24\n",
      "Enter second number: 26\n",
      "The L.C.M. of 24 and 26 is 312\n"
     ]
    }
   ],
   "source": [
    "#1.\tWrite a Python Program to Find LCM?\n",
    "\n",
    "def calculate_lcm(x, y):  \n",
    "    if x > y:  \n",
    "        greater = x  \n",
    "    else:  \n",
    "        greater = y  \n",
    "    while(True):  \n",
    "        if((greater % x == 0) and (greater % y == 0)):  \n",
    "            lcm = greater  \n",
    "            break  \n",
    "        greater += 1  \n",
    "    return lcm    \n",
    "num1 = int(input(\"Enter first number: \"))  \n",
    "num2 = int(input(\"Enter second number: \"))  \n",
    "\n",
    "print(\"The L.C.M. of\", num1,\"and\", num2,\"is\", calculate_lcm(num1, num2))  "
   ]
  },
  {
   "cell_type": "code",
   "execution_count": 8,
   "id": "44c79d72",
   "metadata": {
    "scrolled": false
   },
   "outputs": [
    {
     "name": "stdout",
     "output_type": "stream",
     "text": [
      "Enter value of a 15\n",
      "Enter value of b 30\n",
      "HCF of 15 and 30 is: 1\n",
      "HCF of 15 and 30 is: 3\n",
      "HCF of 15 and 30 is: 5\n",
      "HCF of 15 and 30 is: 15\n"
     ]
    }
   ],
   "source": [
    "#2.\tWrite a Python Program to Find HCF?\n",
    "a= int(input(\"Enter value of a \"))\n",
    "b= int(input(\"Enter value of b \"))\n",
    "if a>b:\n",
    "    mn = b\n",
    "else:\n",
    "    mn = a\n",
    "for i in range(1, mn +1): \n",
    "    if a%i==0 and b%i==0:\n",
    "        hcf = i\n",
    "        print(\"HCF of\", a, \"and\", b, \"is:\", i)\n",
    "            \n",
    "    \n",
    "        "
   ]
  },
  {
   "cell_type": "code",
   "execution_count": 2,
   "id": "0e2645f2",
   "metadata": {},
   "outputs": [
    {
     "name": "stdout",
     "output_type": "stream",
     "text": [
      "enter a decimal value500\n",
      "The decimal value of 500 is:\n",
      "0b111110100 in binary.\n",
      "0o764 in octal.\n",
      "0x1f4 in hexadecimal.\n"
     ]
    }
   ],
   "source": [
    "#3.\tWrite a Python Program to Convert Decimal to Binary, Octal and Hexadecimal?})\n",
    "dec = int(input(\"enter a decimal value\"))\n",
    "\n",
    "print(\"The decimal value of\", dec, \"is:\")\n",
    "print(bin(dec), \"in binary.\")\n",
    "print(oct(dec), \"in octal.\")\n",
    "print(hex(dec), \"in hexadecimal.\")\n"
   ]
  },
  {
   "cell_type": "code",
   "execution_count": 3,
   "id": "cd348792",
   "metadata": {},
   "outputs": [
    {
     "name": "stdout",
     "output_type": "stream",
     "text": [
      "The ASCII value of 'p' is 112\n"
     ]
    }
   ],
   "source": [
    "#4.\tWrite a Python Program To Find ASCII value of a character?\n",
    "c = 'p'\n",
    "print(\"The ASCII value of '\" + c + \"' is\", ord(c))\n"
   ]
  },
  {
   "cell_type": "code",
   "execution_count": 7,
   "id": "7cb01418",
   "metadata": {},
   "outputs": [
    {
     "name": "stdout",
     "output_type": "stream",
     "text": [
      "choice for operation\n",
      "a.add\n",
      "b.subtract\n",
      "c.multiply\n",
      "d.divide\n",
      "choice for opeartion (a/b/c/d)b\n",
      "enter value of p5\n",
      "enter value of q6\n",
      "-1\n"
     ]
    }
   ],
   "source": [
    "#5.\tWrite a Python Program to Make a Simple Calculator with 4 basic mathematical operations?\n",
    "def add(p,q):\n",
    "    return p+q\n",
    "def subtract(p,q):\n",
    "    return p-q\n",
    "def multiply(p,q):\n",
    "    return p*q\n",
    "def divide(p,q):\n",
    "    return p/q\n",
    "print(\"choice for operation\")\n",
    "print(\"a.add\")\n",
    "print(\"b.subtract\")\n",
    "print(\"c.multiply\")\n",
    "print(\"d.divide\")\n",
    "choice = input(\"choice for opeartion (a/b/c/d)\")\n",
    "p = int(input(\"enter value of p\"))\n",
    "q = int(input(\"enter value of q\"))\n",
    "if choice ==\"a\":\n",
    "    print(add(p,q) )\n",
    "elif choice == \"b\":\n",
    "    print(subtract(p,q))\n",
    "elif choice == \"c\":\n",
    "    print(multiply(p,q))\n",
    "elif choice == \"d\":\n",
    "    print(divide(p,q))\n",
    "else:\n",
    "    print(\"inavild input\")\n",
    "    "
   ]
  },
  {
   "cell_type": "code",
   "execution_count": null,
   "id": "4843c63e",
   "metadata": {},
   "outputs": [],
   "source": []
  },
  {
   "cell_type": "code",
   "execution_count": null,
   "id": "d161d577",
   "metadata": {},
   "outputs": [],
   "source": []
  },
  {
   "cell_type": "code",
   "execution_count": null,
   "id": "4509cff5",
   "metadata": {},
   "outputs": [],
   "source": []
  },
  {
   "cell_type": "code",
   "execution_count": null,
   "id": "e99c5f36",
   "metadata": {},
   "outputs": [],
   "source": []
  },
  {
   "cell_type": "code",
   "execution_count": null,
   "id": "bf7f0c63",
   "metadata": {},
   "outputs": [],
   "source": []
  }
 ],
 "metadata": {
  "kernelspec": {
   "display_name": "Python 3 (ipykernel)",
   "language": "python",
   "name": "python3"
  },
  "language_info": {
   "codemirror_mode": {
    "name": "ipython",
    "version": 3
   },
   "file_extension": ".py",
   "mimetype": "text/x-python",
   "name": "python",
   "nbconvert_exporter": "python",
   "pygments_lexer": "ipython3",
   "version": "3.9.7"
  }
 },
 "nbformat": 4,
 "nbformat_minor": 5
}
